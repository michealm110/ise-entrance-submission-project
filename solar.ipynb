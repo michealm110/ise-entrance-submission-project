{
 "cells": [
  {
   "cell_type": "code",
   "execution_count": null,
   "metadata": {},
   "outputs": [],
   "source": [
    "import pandas as pd\n",
    "import pvlib\n",
    "from datetime import datetime, timedelta, timezone\n",
    "import pytz\n"
   ]
  },
  {
   "cell_type": "code",
   "execution_count": null,
   "metadata": {},
   "outputs": [],
   "source": [
    "def calc_power_output(latitude, longitude, rated_power_per_panel, number_of_panels, panel_tilt, panel_azimuth):    \n",
    "    location = pvlib.location.Location(latitude, longitude)\n",
    "    #clearsky_irradiance =  location.get_clearsky(times)\n",
    "\n",
    "    # Typical meteorogical year using the pvgis api\n",
    "    data, _, _, _ = pvlib.iotools.get_pvgis_tmy(latitude=latitude, longitude=longitude)\n",
    "\n",
    "    solar_position = location.get_solarposition(data.index)\n",
    "\n",
    "    #solar_position = location.get_solarposition(date_time)\n",
    "    # Optimisic estimate of solar irradiation because it assumes clear skies\n",
    "    # clear_sky = location.get_clearsky(date_time, model=\"ineichen\")\n",
    "\n",
    "    # Calculates the irradiance watts per m squared of the panel surface\n",
    "    # Pvlib assumes a gorund albedo of around .2 which is correspondant with grass and soil, may differ for highly reflective surfaces like snow\n",
    "    irradiance = pvlib.irradiance.get_total_irradiance(\n",
    "        surface_tilt=panel_tilt,\n",
    "        surface_azimuth=panel_azimuth,\n",
    "        solar_zenith=solar_position['zenith'],\n",
    "        solar_azimuth=solar_position['azimuth'],\n",
    "        ghi=data['ghi'],\n",
    "        dni=data['dni'],\n",
    "        dhi=data['dhi'])\n",
    "    \n",
    "    #default values entered for wind_speed, u0, and u1\n",
    "    module_temperature = pvlib.temperature.faiman(poa_global=irradiance[\"poa_global\"], temp_air=data[\"temp_air\"], wind_speed=1, u0=25.0, u1=6.84)\n",
    "\n",
    "    dc_power = pvlib.pvsystem.pvwatts_dc(\n",
    "    g_poa_effective=irradiance['poa_global'],\n",
    "    # simplified assumptions that module and cell temperature are the same\n",
    "    temp_cell=module_temperature,\n",
    "    pdc0=rated_power_per_panel,\n",
    "    gamma_pdc=-0.004,\n",
    "    temp_ref=25.0,\n",
    "    )\n",
    "    #dc_power.index = dc_power.index.replace(year=2024)\n",
    "    dc_power.index = dc_power.index.map(lambda x: x.replace(year=2024))\n",
    "\n",
    "    # Plot x-axis: time, y-axis: dc_power on a line chart thingy\n",
    "    #matplotlib.pyplot.plot\n",
    "    \n",
    "\n",
    "    return dc_power * number_of_panels\n",
    "\n",
    "\n",
    "\n",
    "def rounds_and_calculates_a_year_of_dates():\n",
    "    \n",
    "    tz = \"Europe/Dublin\"\n",
    "    #times = pd.date_range(start='2025-03-29 00:00:00', end='2025-03-30 00:00:00', freq='30min', tz='Europe/Dublin')\n",
    "    tz_formatted = pytz.timezone(tz)\n",
    "    time_now_aware = datetime.now(tz_formatted)\n",
    "    delta = timedelta(minutes=30)\n",
    "    time_rounded_down = time_now_aware - (time_now_aware - datetime.min.replace(tzinfo=timezone.utc)) % delta\n",
    "    return pd.date_range(start=time_rounded_down.replace(year=(int(time_rounded_down.year) - 1)), end=time_rounded_down, freq=\"30min\", tz=tz)"
   ]
  },
  {
   "cell_type": "code",
   "execution_count": 200,
   "metadata": {},
   "outputs": [
    {
     "data": {
      "text/plain": [
       "'[{\"x\":\"2024-07-23T00:00:00.000Z\",\"y\":0.0},{\"x\":\"2024-07-23T01:00:00.000Z\",\"y\":0.0},{\"x\":\"2024-07-23T02:00:00.000Z\",\"y\":0.0},{\"x\":\"2024-07-23T03:00:00.000Z\",\"y\":0.0},{\"x\":\"2024-07-23T04:00:00.000Z\",\"y\":2.2568816455},{\"x\":\"2024-07-23T05:00:00.000Z\",\"y\":11.7753322389},{\"x\":\"2024-07-23T06:00:00.000Z\",\"y\":11.4643858707},{\"x\":\"2024-07-23T07:00:00.000Z\",\"y\":47.2801902643},{\"x\":\"2024-07-23T08:00:00.000Z\",\"y\":133.3286177001},{\"x\":\"2024-07-23T09:00:00.000Z\",\"y\":127.2409254919},{\"x\":\"2024-07-23T10:00:00.000Z\",\"y\":186.4374227022},{\"x\":\"2024-07-23T11:00:00.000Z\",\"y\":156.1378293923},{\"x\":\"2024-07-23T12:00:00.000Z\",\"y\":148.5656400622},{\"x\":\"2024-07-23T13:00:00.000Z\",\"y\":122.8041897676},{\"x\":\"2024-07-23T14:00:00.000Z\",\"y\":152.1402735361},{\"x\":\"2024-07-23T15:00:00.000Z\",\"y\":140.0427187037},{\"x\":\"2024-07-23T16:00:00.000Z\",\"y\":81.4691232086},{\"x\":\"2024-07-23T17:00:00.000Z\",\"y\":40.6768568645},{\"x\":\"2024-07-23T18:00:00.000Z\",\"y\":14.773359815},{\"x\":\"2024-07-23T19:00:00.000Z\",\"y\":1.6831194566},{\"x\":\"2024-07-23T20:00:00.000Z\",\"y\":0.0},{\"x\":\"2024-07-23T21:00:00.000Z\",\"y\":0.0},{\"x\":\"2024-07-23T22:00:00.000Z\",\"y\":0.0},{\"x\":\"2024-07-23T23:00:00.000Z\",\"y\":0.0}]'"
      ]
     },
     "execution_count": 200,
     "metadata": {},
     "output_type": "execute_result"
    }
   ],
   "source": [
    "times_from_now = rounds_and_calculates_a_year_of_dates()\n",
    "\n",
    "clearsky_irradiance = calc_power_output(55.6846, 12.5389, 6, 0.18, 40, 180, times_from_now)\n",
    "\n",
    "\n",
    "\n",
    "#clearsky_irradiance\n",
    "clearsky_irradiance = clearsky_irradiance.reset_index().rename(columns={\"time(UTC)\": \"x\", 0: \"y\"})\n",
    "\n",
    "clearsky_irradiance = clearsky_irradiance[(clearsky_irradiance[\"x\"] >= \"2024-07-23T00:00:00.000\") & (clearsky_irradiance[\"x\"] < \"2024-07-24T00:00:00.000\")]\n",
    "\n",
    "\n",
    "clearsky_irradiance = clearsky_irradiance.to_json(orient=\"records\", date_format=\"iso\")\n",
    "\n",
    "clearsky_irradiance\n"
   ]
  },
  {
   "cell_type": "code",
   "execution_count": 202,
   "metadata": {},
   "outputs": [
    {
     "data": {
      "text/plain": [
       "'[{\"x\":\"2024-07-23T00:00:00.000\",\"y\":494.0},{\"x\":\"2024-07-23T00:30:00.000\",\"y\":440.0},{\"x\":\"2024-07-23T01:00:00.000\",\"y\":598.0},{\"x\":\"2024-07-23T01:30:00.000\",\"y\":360.0},{\"x\":\"2024-07-23T02:00:00.000\",\"y\":298.0},{\"x\":\"2024-07-23T02:30:00.000\",\"y\":290.0},{\"x\":\"2024-07-23T03:00:00.000\",\"y\":1316.0},{\"x\":\"2024-07-23T03:30:00.000\",\"y\":568.0},{\"x\":\"2024-07-23T04:00:00.000\",\"y\":280.0},{\"x\":\"2024-07-23T04:30:00.000\",\"y\":276.0},{\"x\":\"2024-07-23T05:00:00.000\",\"y\":268.0},{\"x\":\"2024-07-23T05:30:00.000\",\"y\":264.0},{\"x\":\"2024-07-23T06:00:00.000\",\"y\":276.0},{\"x\":\"2024-07-23T06:30:00.000\",\"y\":392.0},{\"x\":\"2024-07-23T07:00:00.000\",\"y\":386.0},{\"x\":\"2024-07-23T07:30:00.000\",\"y\":362.0},{\"x\":\"2024-07-23T08:00:00.000\",\"y\":380.0},{\"x\":\"2024-07-23T08:30:00.000\",\"y\":1014.0},{\"x\":\"2024-07-23T09:00:00.000\",\"y\":280.0},{\"x\":\"2024-07-23T09:30:00.000\",\"y\":264.0},{\"x\":\"2024-07-23T10:00:00.000\",\"y\":1284.0},{\"x\":\"2024-07-23T10:30:00.000\",\"y\":1086.0},{\"x\":\"2024-07-23T11:00:00.000\",\"y\":852.0},{\"x\":\"2024-07-23T11:30:00.000\",\"y\":392.0},{\"x\":\"2024-07-23T12:00:00.000\",\"y\":812.0},{\"x\":\"2024-07-23T12:30:00.000\",\"y\":520.0},{\"x\":\"2024-07-23T13:00:00.000\",\"y\":772.0},{\"x\":\"2024-07-23T13:30:00.000\",\"y\":2142.0},{\"x\":\"2024-07-23T14:00:00.000\",\"y\":1220.0},{\"x\":\"2024-07-23T14:30:00.000\",\"y\":716.0},{\"x\":\"2024-07-23T15:00:00.000\",\"y\":872.0},{\"x\":\"2024-07-23T15:30:00.000\",\"y\":816.0},{\"x\":\"2024-07-23T16:00:00.000\",\"y\":770.0},{\"x\":\"2024-07-23T16:30:00.000\",\"y\":1618.0},{\"x\":\"2024-07-23T17:00:00.000\",\"y\":2736.0},{\"x\":\"2024-07-23T17:30:00.000\",\"y\":2744.0},{\"x\":\"2024-07-23T18:00:00.000\",\"y\":962.0},{\"x\":\"2024-07-23T18:30:00.000\",\"y\":478.0},{\"x\":\"2024-07-23T19:00:00.000\",\"y\":300.0},{\"x\":\"2024-07-23T19:30:00.000\",\"y\":276.0},{\"x\":\"2024-07-23T20:00:00.000\",\"y\":546.0},{\"x\":\"2024-07-23T20:30:00.000\",\"y\":1168.0},{\"x\":\"2024-07-23T21:00:00.000\",\"y\":1888.0},{\"x\":\"2024-07-23T21:30:00.000\",\"y\":446.0},{\"x\":\"2024-07-23T22:00:00.000\",\"y\":312.0},{\"x\":\"2024-07-23T22:30:00.000\",\"y\":894.0},{\"x\":\"2024-07-23T23:00:00.000\",\"y\":820.0},{\"x\":\"2024-07-23T23:30:00.000\",\"y\":1344.0}]'"
      ]
     },
     "execution_count": 202,
     "metadata": {},
     "output_type": "execute_result"
    }
   ],
   "source": [
    "import pandas\n",
    "\n",
    "hash_id = \"krwm2n2y\"\n",
    "esb_intake = pandas.read_csv(f\"/Users/michealmcmagh/Desktop/ise-entrance-submission-project/solarcalc/uploads/{hash_id}.csv\")\n",
    "esb_intake = pandas.concat([esb_intake[\"Read Date and End Time\"], esb_intake[\"Read Value\"]], join=\"inner\", axis=1)\n",
    "esb_intake = esb_intake.rename(columns={\"Read Date and End Time\": \"x\", \"Read Value\": \"y\"})\n",
    "esb_intake[\"y\"] = esb_intake[\"y\"] * 1000\n",
    "esb_intake[\"x\"] = pandas.to_datetime(esb_intake[\"x\"], dayfirst=True)\n",
    "esb_intake = esb_intake.sort_values(by=['x'])\n",
    "esb_intake = esb_intake[(esb_intake[\"x\"] >= \"2024-07-23T00:00:00.000\") & (esb_intake[\"x\"] < \"2024-07-24T00:00:00.000\")]\n",
    "\n",
    "\n",
    "json_esb_intake = esb_intake.to_json(orient='records', date_format='iso')\n",
    "json_esb_intake"
   ]
  },
  {
   "cell_type": "code",
   "execution_count": null,
   "metadata": {},
   "outputs": [],
   "source": []
  }
 ],
 "metadata": {
  "kernelspec": {
   "display_name": ".venv",
   "language": "python",
   "name": "python3"
  },
  "language_info": {
   "codemirror_mode": {
    "name": "ipython",
    "version": 3
   },
   "file_extension": ".py",
   "mimetype": "text/x-python",
   "name": "python",
   "nbconvert_exporter": "python",
   "pygments_lexer": "ipython3",
   "version": "3.11.3"
  }
 },
 "nbformat": 4,
 "nbformat_minor": 2
}
