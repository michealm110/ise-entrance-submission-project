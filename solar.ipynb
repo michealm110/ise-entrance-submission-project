{
 "cells": [
  {
   "cell_type": "code",
   "execution_count": 11,
   "metadata": {},
   "outputs": [],
   "source": [
    "import pandas as pd\n",
    "import pvlib"
   ]
  },
  {
   "cell_type": "code",
   "execution_count": 41,
   "metadata": {},
   "outputs": [],
   "source": [
    "def calc_power_output(latitude, longitude, panel_area, panel_efficiency, panel_tilt, panel_azimuth, times):\n",
    "    tz = 'Europe/Dublin'\n",
    "    \n",
    "    location = pvlib.location.Location(latitude, longitude)\n",
    "    #clearsky_irradiance =  location.get_clearsky(times)\n",
    "\n",
    "    data, months, inputs, meta = pvlib.iotools.get_pvgis_tmy(latitude=latitude, longitude=longitude)\n",
    "    if data.index.tzinfo is None:\n",
    "        raise ValueError(\"data.index must be timezone aware\")\n",
    "    solar_position = location.get_solarposition(data.index)\n",
    "\n",
    "    #solar_position = location.get_solarposition(date_time)\n",
    "    # Optimisic estimate of solar irradiation because it assumes clear skies\n",
    "    # clear_sky = location.get_clearsky(date_time, model=\"ineichen\")\n",
    "    irradiance = pvlib.irradiance.get_total_irradiance(\n",
    "        surface_tilt=panel_tilt,\n",
    "        surface_azimuth=panel_azimuth,\n",
    "        solar_zenith=solar_position['zenith'],\n",
    "        solar_azimuth=solar_position['azimuth'],\n",
    "        ghi=data['ghi'],\n",
    "        dni=data['dni'],\n",
    "        dhi=data['dhi'])\n",
    "    \n",
    "    #default values entered for wind_speed, u0, and u1\n",
    "    module_temperature = pvlib.temperature.faiman(poa_global=irradiance[\"poa_global\"], temp_air=data[\"temp_air\"], wind_speed=1, u0=25.0, u1=6.84)\n",
    "\n",
    "    dc_power = pvlib.pvsystem.pvwatts_dc(\n",
    "    g_poa_effective=irradiance['poa_global'],\n",
    "    # simplified assumptions that module and cell temperature are the same\n",
    "    temp_cell=module_temperature,\n",
    "    pdc0=300,\n",
    "    gamma_pdc=-0.004,\n",
    "    temp_ref=25.0,\n",
    "    )\n",
    "\n",
    "\n",
    "    return dc_power"
   ]
  },
  {
   "cell_type": "code",
   "execution_count": 42,
   "metadata": {},
   "outputs": [
    {
     "data": {
      "text/plain": [
       "time(UTC)\n",
       "2016-01-01 00:00:00+00:00    0.0\n",
       "2016-01-01 01:00:00+00:00    0.0\n",
       "2016-01-01 02:00:00+00:00    0.0\n",
       "2016-01-01 03:00:00+00:00    0.0\n",
       "2016-01-01 04:00:00+00:00    0.0\n",
       "                            ... \n",
       "2016-12-31 19:00:00+00:00    0.0\n",
       "2016-12-31 20:00:00+00:00    0.0\n",
       "2016-12-31 21:00:00+00:00    0.0\n",
       "2016-12-31 22:00:00+00:00    0.0\n",
       "2016-12-31 23:00:00+00:00    0.0\n",
       "Length: 8760, dtype: float64"
      ]
     },
     "execution_count": 42,
     "metadata": {},
     "output_type": "execute_result"
    }
   ],
   "source": [
    "times = pd.date_range(start='2025-03-29 00:00:00', end='2025-03-30 00:00:00', freq='30min', tz='Europe/Dublin')\n",
    "clearsky_irradiance = calc_power_output(55.6846, 12.5389, 6, 0.18, 40, 180, times)\n",
    "clearsky_irradiance\n"
   ]
  }
 ],
 "metadata": {
  "kernelspec": {
   "display_name": ".venv",
   "language": "python",
   "name": "python3"
  },
  "language_info": {
   "codemirror_mode": {
    "name": "ipython",
    "version": 3
   },
   "file_extension": ".py",
   "mimetype": "text/x-python",
   "name": "python",
   "nbconvert_exporter": "python",
   "pygments_lexer": "ipython3",
   "version": "3.11.3"
  }
 },
 "nbformat": 4,
 "nbformat_minor": 2
}
